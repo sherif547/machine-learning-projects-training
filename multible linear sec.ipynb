{
 "cells": [
  {
   "cell_type": "code",
   "execution_count": 1,
   "id": "05d5eed6",
   "metadata": {},
   "outputs": [],
   "source": [
    "import pandas as pd\n",
    "import matplotlib.pyplot as plt\n",
    "import numpy as np\n",
    "import seaborn as sns"
   ]
  },
  {
   "cell_type": "code",
   "execution_count": 2,
   "id": "f0135e17",
   "metadata": {},
   "outputs": [],
   "source": [
    "from sklearn import datasets"
   ]
  },
  {
   "cell_type": "code",
   "execution_count": 3,
   "id": "52f87bdc",
   "metadata": {},
   "outputs": [],
   "source": [
    "x=datasets.load_boston().data"
   ]
  },
  {
   "cell_type": "code",
   "execution_count": 4,
   "id": "95e43a8b",
   "metadata": {},
   "outputs": [
    {
     "data": {
      "text/plain": [
       "(506, 13)"
      ]
     },
     "execution_count": 4,
     "metadata": {},
     "output_type": "execute_result"
    }
   ],
   "source": [
    "x.shape"
   ]
  },
  {
   "cell_type": "code",
   "execution_count": 5,
   "id": "6ad21193",
   "metadata": {},
   "outputs": [],
   "source": [
    "y=datasets.load_boston().target"
   ]
  },
  {
   "cell_type": "code",
   "execution_count": 6,
   "id": "61db965b",
   "metadata": {},
   "outputs": [
    {
     "data": {
      "text/plain": [
       "(506,)"
      ]
     },
     "execution_count": 6,
     "metadata": {},
     "output_type": "execute_result"
    }
   ],
   "source": [
    "y.shape"
   ]
  },
  {
   "cell_type": "code",
   "execution_count": 7,
   "id": "cb592dd4",
   "metadata": {},
   "outputs": [],
   "source": [
    "df=pd.DataFrame(x,columns=datasets.load_boston().feature_names)"
   ]
  },
  {
   "cell_type": "code",
   "execution_count": 8,
   "id": "e514b223",
   "metadata": {},
   "outputs": [
    {
     "data": {
      "text/html": [
       "<div>\n",
       "<style scoped>\n",
       "    .dataframe tbody tr th:only-of-type {\n",
       "        vertical-align: middle;\n",
       "    }\n",
       "\n",
       "    .dataframe tbody tr th {\n",
       "        vertical-align: top;\n",
       "    }\n",
       "\n",
       "    .dataframe thead th {\n",
       "        text-align: right;\n",
       "    }\n",
       "</style>\n",
       "<table border=\"1\" class=\"dataframe\">\n",
       "  <thead>\n",
       "    <tr style=\"text-align: right;\">\n",
       "      <th></th>\n",
       "      <th>CRIM</th>\n",
       "      <th>ZN</th>\n",
       "      <th>INDUS</th>\n",
       "      <th>CHAS</th>\n",
       "      <th>NOX</th>\n",
       "      <th>RM</th>\n",
       "      <th>AGE</th>\n",
       "      <th>DIS</th>\n",
       "      <th>RAD</th>\n",
       "      <th>TAX</th>\n",
       "      <th>PTRATIO</th>\n",
       "      <th>B</th>\n",
       "      <th>LSTAT</th>\n",
       "    </tr>\n",
       "  </thead>\n",
       "  <tbody>\n",
       "    <tr>\n",
       "      <th>0</th>\n",
       "      <td>0.00632</td>\n",
       "      <td>18.0</td>\n",
       "      <td>2.31</td>\n",
       "      <td>0.0</td>\n",
       "      <td>0.538</td>\n",
       "      <td>6.575</td>\n",
       "      <td>65.2</td>\n",
       "      <td>4.0900</td>\n",
       "      <td>1.0</td>\n",
       "      <td>296.0</td>\n",
       "      <td>15.3</td>\n",
       "      <td>396.90</td>\n",
       "      <td>4.98</td>\n",
       "    </tr>\n",
       "    <tr>\n",
       "      <th>1</th>\n",
       "      <td>0.02731</td>\n",
       "      <td>0.0</td>\n",
       "      <td>7.07</td>\n",
       "      <td>0.0</td>\n",
       "      <td>0.469</td>\n",
       "      <td>6.421</td>\n",
       "      <td>78.9</td>\n",
       "      <td>4.9671</td>\n",
       "      <td>2.0</td>\n",
       "      <td>242.0</td>\n",
       "      <td>17.8</td>\n",
       "      <td>396.90</td>\n",
       "      <td>9.14</td>\n",
       "    </tr>\n",
       "    <tr>\n",
       "      <th>2</th>\n",
       "      <td>0.02729</td>\n",
       "      <td>0.0</td>\n",
       "      <td>7.07</td>\n",
       "      <td>0.0</td>\n",
       "      <td>0.469</td>\n",
       "      <td>7.185</td>\n",
       "      <td>61.1</td>\n",
       "      <td>4.9671</td>\n",
       "      <td>2.0</td>\n",
       "      <td>242.0</td>\n",
       "      <td>17.8</td>\n",
       "      <td>392.83</td>\n",
       "      <td>4.03</td>\n",
       "    </tr>\n",
       "    <tr>\n",
       "      <th>3</th>\n",
       "      <td>0.03237</td>\n",
       "      <td>0.0</td>\n",
       "      <td>2.18</td>\n",
       "      <td>0.0</td>\n",
       "      <td>0.458</td>\n",
       "      <td>6.998</td>\n",
       "      <td>45.8</td>\n",
       "      <td>6.0622</td>\n",
       "      <td>3.0</td>\n",
       "      <td>222.0</td>\n",
       "      <td>18.7</td>\n",
       "      <td>394.63</td>\n",
       "      <td>2.94</td>\n",
       "    </tr>\n",
       "    <tr>\n",
       "      <th>4</th>\n",
       "      <td>0.06905</td>\n",
       "      <td>0.0</td>\n",
       "      <td>2.18</td>\n",
       "      <td>0.0</td>\n",
       "      <td>0.458</td>\n",
       "      <td>7.147</td>\n",
       "      <td>54.2</td>\n",
       "      <td>6.0622</td>\n",
       "      <td>3.0</td>\n",
       "      <td>222.0</td>\n",
       "      <td>18.7</td>\n",
       "      <td>396.90</td>\n",
       "      <td>5.33</td>\n",
       "    </tr>\n",
       "    <tr>\n",
       "      <th>...</th>\n",
       "      <td>...</td>\n",
       "      <td>...</td>\n",
       "      <td>...</td>\n",
       "      <td>...</td>\n",
       "      <td>...</td>\n",
       "      <td>...</td>\n",
       "      <td>...</td>\n",
       "      <td>...</td>\n",
       "      <td>...</td>\n",
       "      <td>...</td>\n",
       "      <td>...</td>\n",
       "      <td>...</td>\n",
       "      <td>...</td>\n",
       "    </tr>\n",
       "    <tr>\n",
       "      <th>501</th>\n",
       "      <td>0.06263</td>\n",
       "      <td>0.0</td>\n",
       "      <td>11.93</td>\n",
       "      <td>0.0</td>\n",
       "      <td>0.573</td>\n",
       "      <td>6.593</td>\n",
       "      <td>69.1</td>\n",
       "      <td>2.4786</td>\n",
       "      <td>1.0</td>\n",
       "      <td>273.0</td>\n",
       "      <td>21.0</td>\n",
       "      <td>391.99</td>\n",
       "      <td>9.67</td>\n",
       "    </tr>\n",
       "    <tr>\n",
       "      <th>502</th>\n",
       "      <td>0.04527</td>\n",
       "      <td>0.0</td>\n",
       "      <td>11.93</td>\n",
       "      <td>0.0</td>\n",
       "      <td>0.573</td>\n",
       "      <td>6.120</td>\n",
       "      <td>76.7</td>\n",
       "      <td>2.2875</td>\n",
       "      <td>1.0</td>\n",
       "      <td>273.0</td>\n",
       "      <td>21.0</td>\n",
       "      <td>396.90</td>\n",
       "      <td>9.08</td>\n",
       "    </tr>\n",
       "    <tr>\n",
       "      <th>503</th>\n",
       "      <td>0.06076</td>\n",
       "      <td>0.0</td>\n",
       "      <td>11.93</td>\n",
       "      <td>0.0</td>\n",
       "      <td>0.573</td>\n",
       "      <td>6.976</td>\n",
       "      <td>91.0</td>\n",
       "      <td>2.1675</td>\n",
       "      <td>1.0</td>\n",
       "      <td>273.0</td>\n",
       "      <td>21.0</td>\n",
       "      <td>396.90</td>\n",
       "      <td>5.64</td>\n",
       "    </tr>\n",
       "    <tr>\n",
       "      <th>504</th>\n",
       "      <td>0.10959</td>\n",
       "      <td>0.0</td>\n",
       "      <td>11.93</td>\n",
       "      <td>0.0</td>\n",
       "      <td>0.573</td>\n",
       "      <td>6.794</td>\n",
       "      <td>89.3</td>\n",
       "      <td>2.3889</td>\n",
       "      <td>1.0</td>\n",
       "      <td>273.0</td>\n",
       "      <td>21.0</td>\n",
       "      <td>393.45</td>\n",
       "      <td>6.48</td>\n",
       "    </tr>\n",
       "    <tr>\n",
       "      <th>505</th>\n",
       "      <td>0.04741</td>\n",
       "      <td>0.0</td>\n",
       "      <td>11.93</td>\n",
       "      <td>0.0</td>\n",
       "      <td>0.573</td>\n",
       "      <td>6.030</td>\n",
       "      <td>80.8</td>\n",
       "      <td>2.5050</td>\n",
       "      <td>1.0</td>\n",
       "      <td>273.0</td>\n",
       "      <td>21.0</td>\n",
       "      <td>396.90</td>\n",
       "      <td>7.88</td>\n",
       "    </tr>\n",
       "  </tbody>\n",
       "</table>\n",
       "<p>506 rows × 13 columns</p>\n",
       "</div>"
      ],
      "text/plain": [
       "        CRIM    ZN  INDUS  CHAS    NOX     RM   AGE     DIS  RAD    TAX  \\\n",
       "0    0.00632  18.0   2.31   0.0  0.538  6.575  65.2  4.0900  1.0  296.0   \n",
       "1    0.02731   0.0   7.07   0.0  0.469  6.421  78.9  4.9671  2.0  242.0   \n",
       "2    0.02729   0.0   7.07   0.0  0.469  7.185  61.1  4.9671  2.0  242.0   \n",
       "3    0.03237   0.0   2.18   0.0  0.458  6.998  45.8  6.0622  3.0  222.0   \n",
       "4    0.06905   0.0   2.18   0.0  0.458  7.147  54.2  6.0622  3.0  222.0   \n",
       "..       ...   ...    ...   ...    ...    ...   ...     ...  ...    ...   \n",
       "501  0.06263   0.0  11.93   0.0  0.573  6.593  69.1  2.4786  1.0  273.0   \n",
       "502  0.04527   0.0  11.93   0.0  0.573  6.120  76.7  2.2875  1.0  273.0   \n",
       "503  0.06076   0.0  11.93   0.0  0.573  6.976  91.0  2.1675  1.0  273.0   \n",
       "504  0.10959   0.0  11.93   0.0  0.573  6.794  89.3  2.3889  1.0  273.0   \n",
       "505  0.04741   0.0  11.93   0.0  0.573  6.030  80.8  2.5050  1.0  273.0   \n",
       "\n",
       "     PTRATIO       B  LSTAT  \n",
       "0       15.3  396.90   4.98  \n",
       "1       17.8  396.90   9.14  \n",
       "2       17.8  392.83   4.03  \n",
       "3       18.7  394.63   2.94  \n",
       "4       18.7  396.90   5.33  \n",
       "..       ...     ...    ...  \n",
       "501     21.0  391.99   9.67  \n",
       "502     21.0  396.90   9.08  \n",
       "503     21.0  396.90   5.64  \n",
       "504     21.0  393.45   6.48  \n",
       "505     21.0  396.90   7.88  \n",
       "\n",
       "[506 rows x 13 columns]"
      ]
     },
     "execution_count": 8,
     "metadata": {},
     "output_type": "execute_result"
    }
   ],
   "source": [
    "df"
   ]
  },
  {
   "cell_type": "code",
   "execution_count": 9,
   "id": "312f9ea1",
   "metadata": {},
   "outputs": [],
   "source": [
    "df.insert(0,'price',y)"
   ]
  },
  {
   "cell_type": "code",
   "execution_count": 10,
   "id": "7bfa7a9f",
   "metadata": {},
   "outputs": [
    {
     "data": {
      "text/html": [
       "<div>\n",
       "<style scoped>\n",
       "    .dataframe tbody tr th:only-of-type {\n",
       "        vertical-align: middle;\n",
       "    }\n",
       "\n",
       "    .dataframe tbody tr th {\n",
       "        vertical-align: top;\n",
       "    }\n",
       "\n",
       "    .dataframe thead th {\n",
       "        text-align: right;\n",
       "    }\n",
       "</style>\n",
       "<table border=\"1\" class=\"dataframe\">\n",
       "  <thead>\n",
       "    <tr style=\"text-align: right;\">\n",
       "      <th></th>\n",
       "      <th>price</th>\n",
       "      <th>CRIM</th>\n",
       "      <th>ZN</th>\n",
       "      <th>INDUS</th>\n",
       "      <th>CHAS</th>\n",
       "      <th>NOX</th>\n",
       "      <th>RM</th>\n",
       "      <th>AGE</th>\n",
       "      <th>DIS</th>\n",
       "      <th>RAD</th>\n",
       "      <th>TAX</th>\n",
       "      <th>PTRATIO</th>\n",
       "      <th>B</th>\n",
       "      <th>LSTAT</th>\n",
       "    </tr>\n",
       "  </thead>\n",
       "  <tbody>\n",
       "    <tr>\n",
       "      <th>472</th>\n",
       "      <td>23.2</td>\n",
       "      <td>3.56868</td>\n",
       "      <td>0.0</td>\n",
       "      <td>18.1</td>\n",
       "      <td>0.0</td>\n",
       "      <td>0.58</td>\n",
       "      <td>6.437</td>\n",
       "      <td>75.0</td>\n",
       "      <td>2.8965</td>\n",
       "      <td>24.0</td>\n",
       "      <td>666.0</td>\n",
       "      <td>20.2</td>\n",
       "      <td>393.37</td>\n",
       "      <td>14.36</td>\n",
       "    </tr>\n",
       "  </tbody>\n",
       "</table>\n",
       "</div>"
      ],
      "text/plain": [
       "     price     CRIM   ZN  INDUS  CHAS   NOX     RM   AGE     DIS   RAD    TAX  \\\n",
       "472   23.2  3.56868  0.0   18.1   0.0  0.58  6.437  75.0  2.8965  24.0  666.0   \n",
       "\n",
       "     PTRATIO       B  LSTAT  \n",
       "472     20.2  393.37  14.36  "
      ]
     },
     "execution_count": 10,
     "metadata": {},
     "output_type": "execute_result"
    }
   ],
   "source": [
    "df.sample()"
   ]
  },
  {
   "cell_type": "markdown",
   "id": "7076a6ae",
   "metadata": {},
   "source": [
    "## split the data"
   ]
  },
  {
   "cell_type": "code",
   "execution_count": 11,
   "id": "f7522f08",
   "metadata": {},
   "outputs": [],
   "source": [
    "from sklearn.model_selection import train_test_split"
   ]
  },
  {
   "cell_type": "code",
   "execution_count": 12,
   "id": "296acc2c",
   "metadata": {},
   "outputs": [],
   "source": [
    "x_train,x_test,y_train,y_test=train_test_split(x,y,test_size=.2,random_state=0)"
   ]
  },
  {
   "cell_type": "code",
   "execution_count": 13,
   "id": "946b12f1",
   "metadata": {},
   "outputs": [
    {
     "name": "stdout",
     "output_type": "stream",
     "text": [
      "(404, 13) (102, 13) (404,) (102,)\n"
     ]
    }
   ],
   "source": [
    "print(x_train.shape,x_test.shape,y_train.shape,y_test.shape)"
   ]
  },
  {
   "cell_type": "markdown",
   "id": "b0c0b842",
   "metadata": {},
   "source": [
    "## train model"
   ]
  },
  {
   "cell_type": "code",
   "execution_count": 14,
   "id": "887adb9f",
   "metadata": {},
   "outputs": [
    {
     "data": {
      "text/plain": [
       "LinearRegression()"
      ]
     },
     "execution_count": 14,
     "metadata": {},
     "output_type": "execute_result"
    }
   ],
   "source": [
    "from sklearn.linear_model import LinearRegression\n",
    "lr=LinearRegression()\n",
    "lr.fit(x_train,y_train)"
   ]
  },
  {
   "cell_type": "markdown",
   "id": "5ecdf65c",
   "metadata": {},
   "source": [
    "### checking parameter"
   ]
  },
  {
   "cell_type": "code",
   "execution_count": 15,
   "id": "79e58a73",
   "metadata": {},
   "outputs": [
    {
     "data": {
      "text/plain": [
       "[('CRIM', -0.11944344700245836),\n",
       " ('ZN', 0.04477995106651214),\n",
       " ('INDUS', 0.00548526168176946),\n",
       " ('CHAS', 2.340803606242054),\n",
       " ('NOX', -16.123604315429514),\n",
       " ('RM', 3.7087090122191495),\n",
       " ('AGE', -0.003121081780736579),\n",
       " ('DIS', -1.3863973702786783),\n",
       " ('RAD', 0.24417832698881295),\n",
       " ('TAX', -0.010989636563080092),\n",
       " ('PTRATIO', -1.0459211887459732),\n",
       " ('B', 0.008110106932704478),\n",
       " ('LSTAT', -0.4927927245047089)]"
      ]
     },
     "execution_count": 15,
     "metadata": {},
     "output_type": "execute_result"
    }
   ],
   "source": [
    "list(zip(df.columns[1:],lr.coef_))"
   ]
  },
  {
   "cell_type": "code",
   "execution_count": 16,
   "id": "b3be3db2",
   "metadata": {},
   "outputs": [
    {
     "name": "stdout",
     "output_type": "stream",
     "text": [
      "the CRIM coeffient is : -0.1194 \n",
      "the ZN coeffient is : 0.0448 \n",
      "the INDUS coeffient is : 0.0055 \n",
      "the CHAS coeffient is : 2.3408 \n",
      "the NOX coeffient is : -16.1236 \n",
      "the RM coeffient is : 3.7087 \n",
      "the AGE coeffient is : -0.0031 \n",
      "the DIS coeffient is : -1.3864 \n",
      "the RAD coeffient is : 0.2442 \n",
      "the TAX coeffient is : -0.0110 \n",
      "the PTRATIO coeffient is : -1.0459 \n",
      "the B coeffient is : 0.0081 \n",
      "the LSTAT coeffient is : -0.4928 \n"
     ]
    }
   ],
   "source": [
    "for i ,coef in list(zip(df.columns[1:],lr.coef_)):\n",
    "    print('the {0} coeffient is : {1:.4f} '.format(i,coef))"
   ]
  },
  {
   "cell_type": "markdown",
   "id": "c25b5428",
   "metadata": {},
   "source": [
    "## prediction"
   ]
  },
  {
   "cell_type": "code",
   "execution_count": 17,
   "id": "48185796",
   "metadata": {},
   "outputs": [],
   "source": [
    "y_hat=lr.predict(x_test)"
   ]
  },
  {
   "cell_type": "code",
   "execution_count": 18,
   "id": "47e48753",
   "metadata": {},
   "outputs": [
    {
     "data": {
      "text/plain": [
       "array([[22.6       , 24.88963777],\n",
       "       [50.        , 23.72141085],\n",
       "       [23.        , 29.36499868],\n",
       "       [ 8.3       , 12.12238621],\n",
       "       [21.2       , 21.44382254],\n",
       "       [19.9       , 19.2834443 ],\n",
       "       [20.6       , 20.49647539],\n",
       "       [18.7       , 21.36099298],\n",
       "       [16.1       , 18.8967118 ],\n",
       "       [18.6       , 19.9280658 ],\n",
       "       [ 8.8       ,  5.12703513],\n",
       "       [17.2       , 16.3867396 ],\n",
       "       [14.9       , 17.07776485],\n",
       "       [10.5       ,  5.59375659],\n",
       "       [50.        , 39.99636726],\n",
       "       [29.        , 32.49654668],\n",
       "       [23.        , 22.45798809],\n",
       "       [33.3       , 36.85192327],\n",
       "       [29.4       , 30.86401089],\n",
       "       [21.        , 23.15140009],\n",
       "       [23.8       , 24.77495789],\n",
       "       [19.1       , 24.67187756],\n",
       "       [20.4       , 20.59543752],\n",
       "       [29.1       , 30.35369168],\n",
       "       [19.3       , 22.41940736],\n",
       "       [23.1       , 10.23266565],\n",
       "       [19.6       , 17.64816865],\n",
       "       [19.4       , 18.27419652],\n",
       "       [38.7       , 35.53362541],\n",
       "       [18.7       , 20.96084724],\n",
       "       [14.6       , 18.30413012],\n",
       "       [20.        , 17.79262072],\n",
       "       [20.5       , 19.96561663],\n",
       "       [20.1       , 24.06127231],\n",
       "       [23.6       , 29.10204874],\n",
       "       [16.8       , 19.27774123],\n",
       "       [ 5.6       , 11.15536648],\n",
       "       [50.        , 24.57560579],\n",
       "       [14.5       , 17.5862644 ],\n",
       "       [13.3       , 15.49454112],\n",
       "       [23.9       , 26.20577527],\n",
       "       [20.        , 20.86304693],\n",
       "       [19.8       , 22.31460516],\n",
       "       [13.8       , 15.60710156],\n",
       "       [16.5       , 23.00363104],\n",
       "       [21.6       , 25.17247952],\n",
       "       [20.3       , 20.11459464],\n",
       "       [17.        , 22.90256276],\n",
       "       [11.8       , 10.0380507 ],\n",
       "       [27.5       , 24.28515123],\n",
       "       [15.6       , 20.94127711],\n",
       "       [23.1       , 17.35258791],\n",
       "       [24.3       , 24.52235405],\n",
       "       [42.8       , 29.95143046],\n",
       "       [15.6       , 13.42695877],\n",
       "       [21.7       , 21.72673066],\n",
       "       [17.1       , 20.7897053 ],\n",
       "       [17.2       , 15.49668805],\n",
       "       [15.        , 13.98982601],\n",
       "       [21.7       , 22.18377874],\n",
       "       [18.6       , 17.73047814],\n",
       "       [21.        , 21.58869165],\n",
       "       [33.1       , 32.90522136],\n",
       "       [31.5       , 31.11235671],\n",
       "       [20.1       , 17.73252635],\n",
       "       [29.8       , 32.76358681],\n",
       "       [15.2       , 18.7124637 ],\n",
       "       [15.        , 19.78693475],\n",
       "       [27.5       , 19.02958927],\n",
       "       [22.6       , 22.89825374],\n",
       "       [20.        , 22.96041622],\n",
       "       [21.4       , 24.02555703],\n",
       "       [23.5       , 30.72859326],\n",
       "       [31.2       , 28.83142691],\n",
       "       [23.7       , 25.89957059],\n",
       "       [ 7.4       ,  5.23251817],\n",
       "       [48.3       , 36.72183202],\n",
       "       [24.4       , 23.77267249],\n",
       "       [22.6       , 27.26856352],\n",
       "       [18.3       , 19.29492159],\n",
       "       [23.3       , 28.62304496],\n",
       "       [17.1       , 19.17978838],\n",
       "       [27.9       , 18.97185995],\n",
       "       [44.8       , 37.82397662],\n",
       "       [50.        , 39.22012647],\n",
       "       [23.        , 23.71261106],\n",
       "       [21.4       , 24.93076217],\n",
       "       [10.2       , 15.88545417],\n",
       "       [23.3       , 26.09845751],\n",
       "       [23.2       , 16.68819641],\n",
       "       [18.9       , 15.83515991],\n",
       "       [13.4       , 13.10775597],\n",
       "       [21.9       , 24.71583588],\n",
       "       [24.8       , 31.25165267],\n",
       "       [11.9       , 22.16640989],\n",
       "       [24.3       , 20.25087212],\n",
       "       [13.8       ,  0.59025319],\n",
       "       [24.7       , 25.44217132],\n",
       "       [14.1       , 15.57178328],\n",
       "       [18.7       , 17.93719475],\n",
       "       [28.1       , 25.30588844],\n",
       "       [19.8       , 22.3732326 ]])"
      ]
     },
     "execution_count": 18,
     "metadata": {},
     "output_type": "execute_result"
    }
   ],
   "source": [
    "np.concatenate((y_test.reshape(-1,1),y_hat.reshape(-1,1)),1)"
   ]
  },
  {
   "cell_type": "markdown",
   "id": "88919f6a",
   "metadata": {},
   "source": [
    "## model performance"
   ]
  },
  {
   "cell_type": "code",
   "execution_count": 19,
   "id": "5d2373d7",
   "metadata": {},
   "outputs": [],
   "source": [
    "from sklearn.metrics import r2_score,mean_absolute_error,mean_squared_error"
   ]
  },
  {
   "cell_type": "code",
   "execution_count": 20,
   "id": "befd81ea",
   "metadata": {},
   "outputs": [
    {
     "name": "stdout",
     "output_type": "stream",
     "text": [
      "R^2 score :  0.5892223849182507\n"
     ]
    }
   ],
   "source": [
    "print(\"R^2 score : \",r2_score(y_test,y_hat))"
   ]
  },
  {
   "cell_type": "markdown",
   "id": "a3d1f52b",
   "metadata": {},
   "source": [
    "```\n",
    "the performance not so good i think the model is'nt good enogh\n",
    " 1 indicates a perfect fit, where all the variance in the dependent variable is explained by the independent variable(s), while an R2 score of 0 indicates that the model does not explain any of the variance in the dependent variable.\n",
    "```"
   ]
  },
  {
   "cell_type": "code",
   "execution_count": 21,
   "id": "65541432",
   "metadata": {},
   "outputs": [
    {
     "name": "stdout",
     "output_type": "stream",
     "text": [
      "mean absolute error :  3.842909220444498\n"
     ]
    }
   ],
   "source": [
    "print(\"mean absolute error : \",mean_absolute_error(y_test,y_hat))"
   ]
  },
  {
   "cell_type": "code",
   "execution_count": 22,
   "id": "00b3dc54",
   "metadata": {},
   "outputs": [
    {
     "name": "stdout",
     "output_type": "stream",
     "text": [
      "mean squared error :  33.44897999767653\n"
     ]
    }
   ],
   "source": [
    "print(\"mean squared error : \",mean_squared_error(y_test,y_hat))"
   ]
  },
  {
   "cell_type": "code",
   "execution_count": null,
   "id": "5cf4b1e4",
   "metadata": {},
   "outputs": [],
   "source": []
  },
  {
   "cell_type": "code",
   "execution_count": null,
   "id": "1b3efcf8",
   "metadata": {},
   "outputs": [],
   "source": []
  },
  {
   "cell_type": "markdown",
   "id": "dbfd3a3f",
   "metadata": {},
   "source": [
    "## using k-fold cross validation\n",
    "```\n",
    "beacause data too small it's so hard to split it train & test we use\n",
    "k-fold in this case\n",
    "\n",
    "```"
   ]
  },
  {
   "cell_type": "code",
   "execution_count": 23,
   "id": "234e42d2",
   "metadata": {},
   "outputs": [],
   "source": [
    "from sklearn.model_selection import KFold"
   ]
  },
  {
   "cell_type": "code",
   "execution_count": 24,
   "id": "5e990eee",
   "metadata": {},
   "outputs": [],
   "source": [
    "lr2=LinearRegression()"
   ]
  },
  {
   "cell_type": "code",
   "execution_count": 25,
   "id": "c362d2d2",
   "metadata": {},
   "outputs": [],
   "source": [
    "kf=KFold(n_splits=5, shuffle=True, random_state=1015)"
   ]
  },
  {
   "cell_type": "code",
   "execution_count": 26,
   "id": "3ce1c0fa",
   "metadata": {},
   "outputs": [],
   "source": [
    "splits=kf.split(x)"
   ]
  },
  {
   "cell_type": "code",
   "execution_count": 27,
   "id": "2e633989",
   "metadata": {},
   "outputs": [
    {
     "name": "stdout",
     "output_type": "stream",
     "text": [
      "Mse :  20.09267809108773\n",
      "Mae :  3.2666492170244403\n",
      "\n",
      "Mse :  28.63043954287591\n",
      "Mae :  3.8104672705583225\n",
      "\n",
      "Mse :  16.625043695623347\n",
      "Mae :  2.961999206487031\n",
      "\n",
      "Mse :  36.37492050527956\n",
      "Mae :  3.855792896362362\n",
      "\n",
      "Mse :  20.66001514752266\n",
      "Mae :  3.160795693492084\n",
      "\n"
     ]
    }
   ],
   "source": [
    "for train_index,val_index in splits:\n",
    "    X_train,Y_train=x[train_index],y[train_index]\n",
    "    X_val,Y_val=x[val_index],y[val_index]\n",
    "    \n",
    "    #fit the data\n",
    "    lr2.fit(X_train,Y_train)\n",
    "    #predict\n",
    "    pred=lr2.predict(X_val)\n",
    "    #accuracy\n",
    "    print(\"Mse : \",mean_squared_error(Y_val,pred))\n",
    "    print(\"Mae : \",mean_absolute_error(Y_val,pred))\n",
    "    print()"
   ]
  },
  {
   "cell_type": "markdown",
   "id": "4404881a",
   "metadata": {},
   "source": [
    "## automate cross val score"
   ]
  },
  {
   "cell_type": "code",
   "execution_count": 29,
   "id": "e01ac5b1",
   "metadata": {},
   "outputs": [],
   "source": [
    "from sklearn.model_selection  import cross_val_score"
   ]
  },
  {
   "cell_type": "code",
   "execution_count": 30,
   "id": "59de164a",
   "metadata": {},
   "outputs": [],
   "source": [
    "l=LinearRegression()"
   ]
  },
  {
   "cell_type": "code",
   "execution_count": 31,
   "id": "22c8a8ba",
   "metadata": {},
   "outputs": [],
   "source": [
    "cv_res=cross_val_score(l,x,y,cv=5)"
   ]
  },
  {
   "cell_type": "code",
   "execution_count": 32,
   "id": "f8e8c0ac",
   "metadata": {},
   "outputs": [
    {
     "data": {
      "text/plain": [
       "array([ 0.63919994,  0.71386698,  0.58702344,  0.07923081, -0.25294154])"
      ]
     },
     "execution_count": 32,
     "metadata": {},
     "output_type": "execute_result"
    }
   ],
   "source": [
    "cv_res"
   ]
  },
  {
   "cell_type": "code",
   "execution_count": 33,
   "id": "c79a9dc2",
   "metadata": {},
   "outputs": [],
   "source": [
    "#compute avg R^2 score\n",
    "avg=np.mean(cv_res)"
   ]
  },
  {
   "cell_type": "code",
   "execution_count": 34,
   "id": "b2e0307a",
   "metadata": {},
   "outputs": [
    {
     "data": {
      "text/plain": [
       "0.3532759243958772"
      ]
     },
     "execution_count": 34,
     "metadata": {},
     "output_type": "execute_result"
    }
   ],
   "source": [
    "avg"
   ]
  },
  {
   "cell_type": "code",
   "execution_count": null,
   "id": "e472122c",
   "metadata": {},
   "outputs": [],
   "source": []
  }
 ],
 "metadata": {
  "kernelspec": {
   "display_name": "Python 3 (ipykernel)",
   "language": "python",
   "name": "python3"
  },
  "language_info": {
   "codemirror_mode": {
    "name": "ipython",
    "version": 3
   },
   "file_extension": ".py",
   "mimetype": "text/x-python",
   "name": "python",
   "nbconvert_exporter": "python",
   "pygments_lexer": "ipython3",
   "version": "3.9.7"
  }
 },
 "nbformat": 4,
 "nbformat_minor": 5
}
